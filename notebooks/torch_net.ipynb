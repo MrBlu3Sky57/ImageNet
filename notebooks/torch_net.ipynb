{
 "cells": [
  {
   "cell_type": "code",
   "execution_count": 1,
   "id": "578c82d7",
   "metadata": {},
   "outputs": [],
   "source": [
    "import torch\n",
    "import torch.nn as nn\n",
    "import numpy as np\n",
    "import struct as st"
   ]
  },
  {
   "cell_type": "code",
   "execution_count": 2,
   "id": "4e33964d",
   "metadata": {},
   "outputs": [],
   "source": [
    "# Helper function to parse IDX files\n",
    "def parse_idx(file_path):\n",
    "    with open(file_path, 'rb') as file:\n",
    "        magic = st.unpack('>I', file.read(4))[0]  # Magic number (4 bytes)\n",
    "        num_items = st.unpack('>I', file.read(4))[0]  # Number of items (4 bytes)\n",
    "\n",
    "        if magic == 2051:  # Magic number for images\n",
    "            num_rows = st.unpack('>I', file.read(4))[0]\n",
    "            num_cols = st.unpack('>I', file.read(4))[0]\n",
    "            num_bytes = num_items * num_rows * num_cols\n",
    "            data = np.frombuffer(file.read(num_bytes), dtype=np.uint8)\n",
    "            return data.reshape(num_items, num_rows, num_cols)\n",
    "        elif magic == 2049:  # Magic number for labels\n",
    "            data = np.frombuffer(file.read(num_items), dtype=np.uint8)\n",
    "            return data\n",
    "        else:\n",
    "            raise ValueError(f\"Unknown magic number: {magic}\")\n",
    "\n",
    "# Parse the training data\n",
    "x_train = parse_idx('../data/DigitData/train-images.idx3-ubyte')\n",
    "y_train = torch.tensor(parse_idx('../data/DigitData/train-labels.idx1-ubyte'))\n",
    "\n",
    "x_test = parse_idx('../data/DigitData/t10k-images.idx3-ubyte')\n",
    "y_test = torch.tensor(parse_idx('../data/DigitData/t10k-labels.idx1-ubyte'))\n",
    "\n",
    "# Reshape and scale down\n",
    "p = x_train.shape[1]\n",
    "x_train = x_train.reshape(x_train.shape[0], -1) / 255.0\n",
    "x_test = x_test.reshape(x_test.shape[0], -1) / 255.0"
   ]
  },
  {
   "cell_type": "code",
   "execution_count": 3,
   "id": "1d0507ba",
   "metadata": {},
   "outputs": [],
   "source": [
    "# Normalize\n",
    "train_mean = np.mean(x_train, axis=0)\n",
    "train_std = np.std(x_train, axis=0) + 1e-12\n",
    "\n",
    "x_train = (x_train - train_mean) / train_std\n",
    "x_test = (x_test - train_mean) / train_std\n",
    "\n",
    "x_train = torch.tensor(x_train.reshape(x_train.shape[0], 1, p, p), dtype=torch.float32, requires_grad=True) # Need (n, c, p, p) shape\n",
    "x_test = torch.tensor(x_test.reshape(x_test.shape[0], 1, p, p), dtype=torch.float32, requires_grad=True)"
   ]
  },
  {
   "cell_type": "code",
   "execution_count": 15,
   "id": "6e46bb57",
   "metadata": {},
   "outputs": [],
   "source": [
    "# Build Convolutional block\n",
    "class ConvBlock(nn.Module):\n",
    "\n",
    "    def __init__(self, in_channels, out_channels, kernel_size, pool_size, kernel_stride = 1, pool_stride = 2):\n",
    "        super().__init__()\n",
    "        self.conv = nn.Conv2d(in_channels=in_channels, out_channels=out_channels, kernel_size=kernel_size, padding=1, stride=kernel_stride, bias=False, dtype=torch.float32)\n",
    "        self.batch_norm = nn.BatchNorm2d(out_channels, momentum=0.9, dtype=torch.float32)\n",
    "        self.act = nn.ReLU()\n",
    "        self.pool = nn.MaxPool2d(kernel_size=pool_size, stride=pool_stride)\n",
    "    \n",
    "    def forward(self, x):\n",
    "        x = self.conv(x)\n",
    "        x = self.batch_norm(x)\n",
    "        x = self.act(x)\n",
    "        x = self.pool(x)\n",
    "        return x\n",
    "\n",
    "class MLP(nn.Module):\n",
    "\n",
    "    def __init__(self, size: tuple):\n",
    "        super().__init__()\n",
    "        layers = []\n",
    "        for i in range(len(size) - 1):\n",
    "            layers.append(nn.Linear(size[i], size[i+1], bias=True, dtype=torch.float32))\n",
    "            if i != len(size) - 2:\n",
    "                layers.append(nn.ReLU())\n",
    "        self.seq = nn.Sequential(*layers)\n",
    "    def forward(self, x):\n",
    "        return self.seq(x)\n",
    "\n",
    "class Model(nn.Module):\n",
    "\n",
    "    def __init__(self, blocks):\n",
    "        super().__init__()\n",
    "        self.blocks = nn.ModuleList(blocks)\n",
    "    \n",
    "    def forward(self, x):\n",
    "        for block in self.blocks:\n",
    "            x = block(x)\n",
    "        return x\n",
    "    \n"
   ]
  },
  {
   "cell_type": "code",
   "execution_count": 16,
   "id": "5c66e1e4",
   "metadata": {},
   "outputs": [],
   "source": [
    "# Instantiate model\n",
    "model = Model([\n",
    "    ConvBlock(in_channels=1, out_channels=8, kernel_size=(3, 3), pool_size=2, kernel_stride=1),\n",
    "    ConvBlock(in_channels=8, out_channels=16, kernel_size=(3, 3), pool_size=2, kernel_stride=1),\n",
    "    nn.Flatten(),\n",
    "    MLP((784, 128, 10))  # adjust shape if needed\n",
    "])\n",
    "\n",
    "# Define loss\n",
    "criterion = nn.CrossEntropyLoss()\n",
    "\n",
    "device = torch.device(\"mps\" if torch.backends.mps.is_available() else \"cpu\")\n",
    "model.to(device)\n",
    "x_train = x_train.to(device)\n",
    "y_train = y_train.to(device)\n",
    "x_test = x_test.to(device)\n",
    "y_test = y_test.to(device)"
   ]
  },
  {
   "cell_type": "code",
   "execution_count": 29,
   "id": "8da5c84a",
   "metadata": {},
   "outputs": [],
   "source": [
    "# Hyper params\n",
    "BATCH_SIZE = 30\n",
    "STEPS = 1000\n",
    "LR = 0.01"
   ]
  },
  {
   "cell_type": "code",
   "execution_count": 36,
   "id": "3ebb9d7e",
   "metadata": {},
   "outputs": [
    {
     "name": "stdout",
     "output_type": "stream",
     "text": [
      "0.0037946244701743126\n",
      "0.06675023585557938\n",
      "0.11217992007732391\n",
      "0.00029738497687503695\n",
      "0.04412606731057167\n",
      "0.0023515166249126196\n",
      "0.0024233313743025064\n",
      "0.00014870883023831993\n",
      "0.008332587778568268\n",
      "0.0024808584712445736\n"
     ]
    }
   ],
   "source": [
    "SEED = 42\n",
    "\n",
    "for _ in range(STEPS):\n",
    "\n",
    "    # Minibatch Construct\n",
    "    ix = torch.randint(0, x_train.shape[0], (BATCH_SIZE,))\n",
    "\n",
    "    # Forward Pass\n",
    "    logits = model(x_train[ix])\n",
    "    loss = nn.functional.cross_entropy(logits, y_train[ix])\n",
    "\n",
    "    # Backward Pass\n",
    "    model.zero_grad()\n",
    "    loss.backward()\n",
    "\n",
    "    lr = LR if _ < 1000 else LR * 0.1\n",
    "\n",
    "    # Update\n",
    "    torch.nn.utils.clip_grad_norm_(model.parameters(), max_norm=1.0)\n",
    "    for p in model.parameters():\n",
    "        p.data += -lr * p.grad\n",
    "    \n",
    "    if _ % 100 == 0:\n",
    "        print(loss.item())"
   ]
  },
  {
   "cell_type": "code",
   "execution_count": 37,
   "id": "08f5ff7f",
   "metadata": {},
   "outputs": [
    {
     "name": "stdout",
     "output_type": "stream",
     "text": [
      "Loss: 328893.7188\n",
      "Accuracy: 98.7700\n"
     ]
    }
   ],
   "source": [
    "model.eval()\n",
    "with torch.no_grad():\n",
    "    logits = model(x_test)\n",
    "    loss = nn.functional.cross_entropy(logits, y_test)\n",
    "    accuracy = (logits.argmax(dim=1) == y_test).float().mean()\n",
    "\n",
    "print(f\"Loss: {loss.item():.4f}\")\n",
    "print(f\"Accuracy: {accuracy.item() * 100:.4f}\")"
   ]
  }
 ],
 "metadata": {
  "kernelspec": {
   "display_name": ".venv",
   "language": "python",
   "name": "python3"
  },
  "language_info": {
   "codemirror_mode": {
    "name": "ipython",
    "version": 3
   },
   "file_extension": ".py",
   "mimetype": "text/x-python",
   "name": "python",
   "nbconvert_exporter": "python",
   "pygments_lexer": "ipython3",
   "version": "3.13.2"
  }
 },
 "nbformat": 4,
 "nbformat_minor": 5
}
