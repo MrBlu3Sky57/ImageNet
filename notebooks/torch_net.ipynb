{
 "cells": [
  {
   "cell_type": "code",
   "execution_count": 14,
   "id": "28dbead8",
   "metadata": {},
   "outputs": [],
   "source": [
    "# Got dataset used in this notebook from: Learning Multiple Layers of Features from Tiny Images, Alex Krizhevsky, 2009."
   ]
  },
  {
   "cell_type": "code",
   "execution_count": 15,
   "id": "578c82d7",
   "metadata": {},
   "outputs": [],
   "source": [
    "import torch\n",
    "from torch.nn import functional as F"
   ]
  },
  {
   "cell_type": "code",
   "execution_count": null,
   "id": "1286e4bd",
   "metadata": {},
   "outputs": [],
   "source": [
    "# Get data\n",
    "def unpickle(file):\n",
    "    import pickle\n",
    "    with open(file, 'rb') as fo:\n",
    "        dict = pickle.load(fo, encoding='bytes')\n",
    "    return dict\n",
    "\n",
    "# Get training data\n",
    "x_train = torch.tensor([], dtype=float)\n",
    "y_train = torch.tensor([], dtype=float)\n",
    "for i in range(1, 6):\n",
    "    file = f\"../data/CifarTen/data_batch_{i}\"\n",
    "    batch_dict = unpickle(file)\n",
    "    batch_data = torch.tensor(batch_dict[b\"data\"].astype(float))\n",
    "    label_data = torch.tensor(batch_dict[b\"labels\"])\n",
    "    x_train = torch.cat((x_train, batch_data))\n",
    "    y_train = torch.cat((y_train, label_data))\n",
    "\n",
    "# Get test data\n",
    "file = f\"../data/CifarTen/test_batch\"\n",
    "batch_dict = unpickle(file)\n",
    "x_test = torch.tensor(batch_dict[b\"data\"].astype(float))\n",
    "y_test = torch.tensor(batch_dict[b\"labels\"])"
   ]
  },
  {
   "cell_type": "code",
   "execution_count": null,
   "id": "33d4dbfe",
   "metadata": {},
   "outputs": [
    {
     "ename": "AttributeError",
     "evalue": "'torch.Size' object has no attribute 'value'",
     "output_type": "error",
     "traceback": [
      "\u001b[31m---------------------------------------------------------------------------\u001b[39m",
      "\u001b[31mAttributeError\u001b[39m                            Traceback (most recent call last)",
      "\u001b[36mCell\u001b[39m\u001b[36m \u001b[39m\u001b[32mIn[26]\u001b[39m\u001b[32m, line 3\u001b[39m\n\u001b[32m      1\u001b[39m x_train = x_train.reshape((-\u001b[32m1\u001b[39m, \u001b[32m3\u001b[39m, \u001b[32m32\u001b[39m, \u001b[32m32\u001b[39m)) \u001b[38;5;66;03m# Image size\u001b[39;00m\n\u001b[32m      2\u001b[39m x_test = x_test.reshape((-\u001b[32m1\u001b[39m, \u001b[32m3\u001b[39m, \u001b[32m32\u001b[39m, \u001b[32m32\u001b[39m))\n\u001b[32m----> \u001b[39m\u001b[32m3\u001b[39m \u001b[43mx_test\u001b[49m\u001b[43m.\u001b[49m\u001b[43mshape\u001b[49m\u001b[43m.\u001b[49m\u001b[43mvalue\u001b[49m\n",
      "\u001b[31mAttributeError\u001b[39m: 'torch.Size' object has no attribute 'value'"
     ]
    }
   ],
   "source": [
    "x_train = x_train.reshape((-1, 3, 32, 32)) # Image size\n",
    "x_test = x_test.reshape((-1, 3, 32, 32))"
   ]
  }
 ],
 "metadata": {
  "kernelspec": {
   "display_name": ".venv",
   "language": "python",
   "name": "python3"
  },
  "language_info": {
   "codemirror_mode": {
    "name": "ipython",
    "version": 3
   },
   "file_extension": ".py",
   "mimetype": "text/x-python",
   "name": "python",
   "nbconvert_exporter": "python",
   "pygments_lexer": "ipython3",
   "version": "3.13.2"
  }
 },
 "nbformat": 4,
 "nbformat_minor": 5
}
