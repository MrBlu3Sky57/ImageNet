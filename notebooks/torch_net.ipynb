{
 "cells": [
  {
   "cell_type": "code",
   "execution_count": 1,
   "id": "28dbead8",
   "metadata": {},
   "outputs": [],
   "source": [
    "# Got dataset used in this notebook from: Learning Multiple Layers of Features from Tiny Images, Alex Krizhevsky, 2009."
   ]
  },
  {
   "cell_type": "code",
   "execution_count": 2,
   "id": "578c82d7",
   "metadata": {},
   "outputs": [],
   "source": [
    "import torch\n",
    "import torch.nn as nn"
   ]
  },
  {
   "cell_type": "code",
   "execution_count": 3,
   "id": "1286e4bd",
   "metadata": {},
   "outputs": [],
   "source": [
    "# Get data\n",
    "def unpickle(file):\n",
    "    import pickle\n",
    "    with open(file, 'rb') as fo:\n",
    "        dict = pickle.load(fo, encoding='bytes')\n",
    "    return dict\n",
    "\n",
    "# Get training data\n",
    "x_train = torch.tensor([], dtype=torch.float64, requires_grad=True)\n",
    "y_train = torch.tensor([], dtype=torch.long)\n",
    "for i in range(1, 6):\n",
    "    file = f\"../data/CifarTen/data_batch_{i}\"\n",
    "    batch_dict = unpickle(file)\n",
    "    batch_data = torch.tensor(batch_dict[b\"data\"].astype(float))\n",
    "    label_data = torch.tensor(batch_dict[b\"labels\"])\n",
    "    x_train = torch.cat((x_train, batch_data))\n",
    "    y_train = torch.cat((y_train, label_data))\n",
    "\n",
    "# Get test data\n",
    "file = f\"../data/CifarTen/test_batch\"\n",
    "batch_dict = unpickle(file)\n",
    "x_test = torch.tensor(batch_dict[b\"data\"].astype(float), requires_grad=True).type(torch.float64)\n",
    "y_test = torch.tensor(batch_dict[b\"labels\"]).type(torch.long)"
   ]
  },
  {
   "cell_type": "code",
   "execution_count": 4,
   "id": "33d4dbfe",
   "metadata": {},
   "outputs": [],
   "source": [
    "x_train = x_train.reshape((-1, 3, 32, 32)) # Image size\n",
    "x_test = x_test.reshape((-1, 3, 32, 32))"
   ]
  },
  {
   "cell_type": "code",
   "execution_count": 5,
   "id": "6e46bb57",
   "metadata": {},
   "outputs": [],
   "source": [
    "# Build Convolutional block\n",
    "class ConvBlock(nn.Module):\n",
    "\n",
    "    def __init__(self, in_channels, out_channels, kernel_size, pool_size, kernel_stride = 1, pool_stride = 2):\n",
    "        super().__init__()\n",
    "        self.conv = nn.Conv2d(in_channels=in_channels, out_channels=out_channels, kernel_size=kernel_size, stride=kernel_stride, bias=True, dtype=torch.float64)\n",
    "        self.batch_norm = nn.BatchNorm2d(out_channels, momentum=0.9, dtype=torch.float64)\n",
    "        self.act = nn.ReLU()\n",
    "        self.pool = nn.MaxPool2d(kernel_size=pool_size, stride=pool_stride)\n",
    "    \n",
    "    def forward(self, x):\n",
    "        x = self.conv(x)\n",
    "        x = self.batch_norm(x)\n",
    "        x = self.act(x)\n",
    "        x = self.pool(x)\n",
    "        return x\n",
    "\n",
    "class MLP(nn.Module):\n",
    "\n",
    "    def __init__(self, size: tuple):\n",
    "        super().__init__()\n",
    "        layers = []\n",
    "        for i in range(len(size) - 1):\n",
    "            layers.append(nn.Linear(size[i], size[i+1], bias=True, dtype=torch.float64))\n",
    "            if i != len(size) - 2:\n",
    "                layers.append(nn.ReLU())\n",
    "        self.seq = nn.Sequential(*layers)\n",
    "    def forward(self, x):\n",
    "        return self.seq(x)\n",
    "\n",
    "class Model(nn.Module):\n",
    "\n",
    "    def __init__(self, blocks):\n",
    "        super().__init__()\n",
    "        self.blocks = nn.ModuleList(blocks)\n",
    "    \n",
    "    def forward(self, x):\n",
    "        for block in self.blocks:\n",
    "            x = block(x)\n",
    "        return x\n",
    "    \n"
   ]
  },
  {
   "cell_type": "code",
   "execution_count": 6,
   "id": "5c66e1e4",
   "metadata": {},
   "outputs": [],
   "source": [
    "# Instantiate model\n",
    "model = Model([\n",
    "    ConvBlock(3, 16, 3, 2),\n",
    "    ConvBlock(16, 32, 3, 2),\n",
    "    nn.Flatten(),\n",
    "    MLP((32 * 6 * 6, 128, 10))  # adjust shape if needed\n",
    "])\n",
    "\n",
    "# Define loss\n",
    "criterion = nn.CrossEntropyLoss()"
   ]
  },
  {
   "cell_type": "code",
   "execution_count": 7,
   "id": "8da5c84a",
   "metadata": {},
   "outputs": [],
   "source": [
    "# Hyper params\n",
    "BATCH_SIZE = 32\n",
    "STEPS = 5000\n",
    "LR = 0.1"
   ]
  },
  {
   "cell_type": "code",
   "execution_count": 8,
   "id": "3ebb9d7e",
   "metadata": {},
   "outputs": [
    {
     "name": "stdout",
     "output_type": "stream",
     "text": [
      "2.319170074453515\n",
      "2.1448509080228684\n",
      "1.6530848667811995\n",
      "1.610709650630324\n",
      "1.5990883817958768\n",
      "1.4389702006913991\n",
      "1.6528022278393961\n",
      "1.5197069542072772\n",
      "1.0551906905321693\n",
      "1.1688536495771995\n",
      "1.186688071202301\n",
      "0.8677391923220654\n",
      "1.0521116207616636\n",
      "1.2998654642620944\n",
      "0.7352539217462832\n",
      "1.2261433958779495\n",
      "1.549701737679205\n",
      "0.9827741997326148\n",
      "0.882100326047591\n",
      "1.0533586230689433\n",
      "1.0800538553786385\n",
      "0.7775625240458592\n",
      "0.9380130525567743\n",
      "1.182557986287198\n",
      "0.9423193985559569\n",
      "0.9144599158450178\n",
      "0.9633475799389444\n",
      "0.7101208253420129\n",
      "0.9561990995669974\n",
      "0.7284268673618639\n",
      "1.007280360074493\n",
      "1.0323159974796883\n",
      "1.2452140684826238\n",
      "0.6162432710346059\n",
      "0.8916131001696659\n",
      "1.0433787351412862\n",
      "0.9799732281464218\n",
      "0.9941164238921777\n",
      "0.6397303926776704\n",
      "1.087816236447561\n",
      "0.9407719525372135\n",
      "0.7286320557347771\n",
      "0.7397748206678826\n",
      "0.46888375224720535\n",
      "0.7320679003159535\n",
      "0.9873515372188003\n",
      "0.9695654210596446\n",
      "0.912342762561511\n",
      "0.6412535465788062\n",
      "0.9466681649575222\n",
      "0.8210900644781709\n"
     ]
    }
   ],
   "source": [
    "SEED = 42\n",
    "\n",
    "for _ in range(STEPS):\n",
    "\n",
    "    # Minibatch Construct\n",
    "    ix = torch.randint(0, x_train.shape[0], (BATCH_SIZE,))\n",
    "\n",
    "    # Forward Pass\n",
    "    logits = model.forward(x_train[ix])\n",
    "    loss = nn.functional.cross_entropy(logits, y_train[ix])\n",
    "\n",
    "    # Backward Pass\n",
    "    model.zero_grad()\n",
    "    loss.backward()\n",
    "\n",
    "    lr = LR if _ < 1000 else LR * 0.1\n",
    "\n",
    "    # Update\n",
    "    for p in model.parameters():\n",
    "        p.data += -lr * p.grad\n",
    "    \n",
    "    if _ % 100 == 0:\n",
    "        print(loss.item())\n",
    "    \n",
    "\n",
    "print(loss.item())"
   ]
  },
  {
   "cell_type": "code",
   "execution_count": null,
   "id": "08f5ff7f",
   "metadata": {},
   "outputs": [
    {
     "name": "stdout",
     "output_type": "stream",
     "text": [
      "Loss: 5.199319252421692\n",
      "Accuracy: 0.649\n"
     ]
    }
   ],
   "source": [
    "logits = model.forward(x_test[:1000])\n",
    "print(f\"Loss: {nn.functional.cross_entropy(logits, y_train[:1000]).item()}\")\n",
    "print(f\"Accuracy: {torch.mean((torch.argmax(logits, axis=1) == y_test[:1000]).type(torch.float64))}\")\n"
   ]
  }
 ],
 "metadata": {
  "kernelspec": {
   "display_name": ".venv",
   "language": "python",
   "name": "python3"
  },
  "language_info": {
   "codemirror_mode": {
    "name": "ipython",
    "version": 3
   },
   "file_extension": ".py",
   "mimetype": "text/x-python",
   "name": "python",
   "nbconvert_exporter": "python",
   "pygments_lexer": "ipython3",
   "version": "3.13.2"
  }
 },
 "nbformat": 4,
 "nbformat_minor": 5
}
